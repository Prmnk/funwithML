{
 "cells": [
  {
   "cell_type": "code",
   "execution_count": 10,
   "metadata": {},
   "outputs": [
    {
     "name": "stdout",
     "output_type": "stream",
     "text": [
      "x = 2.0\n",
      "y = 3.0\n",
      "z = 1.0\n"
     ]
    }
   ],
   "source": [
    "#Assignment1 , Q2\n",
    "import numpy as np\n",
    "\n",
    "# equations\n",
    "# 6x+2y-5z = 13\n",
    "# 3x+3y-2z = 13\n",
    "# 7x+5y-3z = 26\n",
    "\n",
    "# converting the coefficients of x,y,z into matrices for solving\n",
    "# a1.X = b2\n",
    "a1 = [[6,2,-5],\n",
    "      [3,3,-2],\n",
    "      [7,5,-3]] \n",
    "\n",
    "b1 = [13, 13, 26]\n",
    "b2 = np.transpose(b1)\n",
    "\n",
    "# a1.X = b2\n",
    "# inv(a1).a1.x = inv(a1).b2\n",
    "# x = inv(a1).b2\n",
    "d1 = np.linalg.solve(a1,b2)\n",
    "#print(d1)\n",
    "\n",
    "# solution --> x = 2, y = 3, z = 1\n",
    "print ('x =',round(d1[0],0))\n",
    "print ('y =',round(d1[1],0))\n",
    "print ('z =',round(d1[2],0))\n",
    "\n"
   ]
  },
  {
   "cell_type": "code",
   "execution_count": null,
   "metadata": {},
   "outputs": [],
   "source": []
  },
  {
   "cell_type": "code",
   "execution_count": null,
   "metadata": {},
   "outputs": [],
   "source": []
  }
 ],
 "metadata": {
  "kernelspec": {
   "display_name": "Python 3",
   "language": "python",
   "name": "python3"
  },
  "language_info": {
   "codemirror_mode": {
    "name": "ipython",
    "version": 3
   },
   "file_extension": ".py",
   "mimetype": "text/x-python",
   "name": "python",
   "nbconvert_exporter": "python",
   "pygments_lexer": "ipython3",
   "version": "3.7.4"
  }
 },
 "nbformat": 4,
 "nbformat_minor": 2
}
