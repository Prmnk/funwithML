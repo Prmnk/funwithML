{
 "cells": [
  {
   "cell_type": "code",
   "execution_count": 11,
   "metadata": {},
   "outputs": [
    {
     "name": "stdout",
     "output_type": "stream",
     "text": [
      "slope=  [[-2.01266667]]\n",
      "intercept=  [57.55722222]\n",
      "equation for the best fit line y= -2.01 x + 57.557\n"
     ]
    }
   ],
   "source": [
    "# Solution for question 1\n",
    "\n",
    "import pandas as pd\n",
    "from sklearn.linear_model import LinearRegression\n",
    "from sklearn.metrics import mean_squared_error\n",
    "import math\n",
    "data = {'col_1': [0.5,1,1.5,2,2.5,3,3.5,4,4.5], 'col_2': [79.4,46.33,44.43,44.85,48.54,49.64,52.44,53,54.1]}\n",
    "df = pd.DataFrame.from_dict(data)\n",
    "\n",
    "X = df[['col_1']]\n",
    "Y = df[['col_2']]\n",
    "\n",
    "reg = LinearRegression().fit(X, Y)\n",
    "print ('slope= ',reg.coef_)\n",
    "print ('intercept= ',reg.intercept_)\n",
    "p = reg.predict(X)\n",
    "print('equation for the best fit line y= -2.01 x + 57.557')\n"
   ]
  },
  {
   "cell_type": "code",
   "execution_count": 10,
   "metadata": {},
   "outputs": [
    {
     "name": "stdout",
     "output_type": "stream",
     "text": [
      "first derivative of the function y = 6*x^2 + 9*x is: 12*x + 9\n",
      "first derivate becomes zero at:  [-0.75]\n",
      "second derivative is a positive with value :  12\n",
      "Hence, as second derivative is greater than zero, it means it is convex with minima at x =  [-0.75]\n",
      "Minima of the function is  -3.375\n",
      "Also as there is only one x where first derivative is zero, which is a minima. There is no maxima of the function\n"
     ]
    }
   ],
   "source": [
    "# Solution for Question 2\n",
    "\n",
    "import sympy as sym\n",
    "x = sym.Symbol('x')\n",
    "\n",
    "# get dy/dx of the function wrt x\n",
    "y1 = sym.diff(6*x**2+9*x)\n",
    "\n",
    "# solve dy/dx = 0\n",
    "import numpy as np\n",
    "a = [[12]]\n",
    "b = [-9]\n",
    "\n",
    "s = np.linalg.solve(a,b)\n",
    "\n",
    "print ('x where dy/dx is zero: ',s)\n",
    "\n",
    "# get second derivative\n",
    "y2 = sym.diff(12*x+9)\n",
    "\n",
    "print ('first derivative of the function y = 6*x^2 + 9*x is:' ,y1)\n",
    "print ('value of d(dy/dx)/dx is a positive with value : ',y2)\n",
    "\n",
    "#get minima \n",
    "\n",
    "y3 = 6*((-0.75)**2)+9*(-0.75)\n",
    "\n",
    "# second derivative is positive and only point where the first derivative gets zero\n",
    "print ('Hence, as second derivative is greater than zero, it means it is convex with minima at x = ',s)\n",
    "print ('Minima of the function is ',y3)\n",
    "print ('Also as there is only one x where first derivative is zero, which is a minima. There is no maxima of the function')\n"
   ]
  },
  {
   "cell_type": "code",
   "execution_count": null,
   "metadata": {},
   "outputs": [],
   "source": []
  }
 ],
 "metadata": {
  "kernelspec": {
   "display_name": "Python 3",
   "language": "python",
   "name": "python3"
  },
  "language_info": {
   "codemirror_mode": {
    "name": "ipython",
    "version": 3
   },
   "file_extension": ".py",
   "mimetype": "text/x-python",
   "name": "python",
   "nbconvert_exporter": "python",
   "pygments_lexer": "ipython3",
   "version": "3.7.4"
  }
 },
 "nbformat": 4,
 "nbformat_minor": 2
}
