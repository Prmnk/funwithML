{
 "cells": [
  {
   "cell_type": "code",
   "execution_count": 1,
   "metadata": {},
   "outputs": [
    {
     "name": "stdout",
     "output_type": "stream",
     "text": [
      "AxesSubplot(0.125,0.11;0.62x0.77)\n"
     ]
    }
   ],
   "source": [
    "import pandas as pd\n",
    "import datetime\n",
    "import numpy as np\n",
    "import seaborn as sns\n",
    "df = pd.read_excel('AirQuality.xlsx', na_values = '-200.0')\n",
    "\n",
    "\n",
    "# adding new features for plotting and finding which days are best to live\n",
    "df['DateInt'] = pd.to_datetime(df['Date']).dt.strftime('%Y%m%d').astype(int)\n",
    "df['hour'] =pd.to_datetime(df['Time'], format='%H:%M:%S').dt.hour\n",
    "df['week'] = df['Date'].dt.week\n",
    "df['month'] = df['Date'].dt.month\n",
    "\n",
    "#Month of July and August have minimum CO levels\n",
    "#From the complete year perspective - Weeks 4, 7-10, 22-23, 31-36 are good for living\n",
    "\n",
    "# plotting CO(GT) values against time features\n",
    "df.reset_index().plot.scatter(x = 'month', y = 'CO(GT)')\n",
    "df.reset_index().plot.scatter(x = 'hour', y = 'CO(GT)')\n",
    "df.reset_index().plot.scatter(x = 'week', y = 'CO(GT)')\n",
    "\n",
    "\n",
    "#dropping as per suggestion\n",
    "df = df.drop(['PT08.S4(NO2)','PT08.S5(O3)','C6H6(GT)'], axis=1)\n",
    "#Using correlation matrix to find which attributes are related to CO, which is the dependent variable\n",
    "# dropping other attributes/features for building regression model\n",
    "\n",
    "corr = df.corr()\n",
    "print(sns.heatmap(corr, xticklabels=corr.columns,yticklabels=corr.columns))\n",
    "df = df.drop(['Date', 'Time','T','RH','AH','NMHC(GT)'], axis=1)\n",
    "\n",
    "#df[df < 0] = df.mean()\n",
    "df.fillna(df.mean(), inplace=True)\n",
    "dfy = df.drop(['CO(GT)','hour','week','month','DateInt'],axis=1)\n",
    "dfx = df[['CO(GT)']]\n",
    "\n",
    "#sns.pairplot(df)\n",
    "\n",
    "\n"
   ]
  },
  {
   "cell_type": "code",
   "execution_count": null,
   "metadata": {},
   "outputs": [],
   "source": []
  },
  {
   "cell_type": "code",
   "execution_count": 6,
   "metadata": {},
   "outputs": [
    {
     "name": "stdout",
     "output_type": "stream",
     "text": [
      "   CO(GT)\n",
      "0     2.6\n",
      "1     2.0\n",
      "2     2.2\n",
      "3     2.2\n",
      "4     1.6\n",
      "(9357, 1) (9357, 5)\n",
      "(2807, 5) (2807, 1)\n",
      "      PT08.S1(CO)  PT08.S2(NMHC)     NOx(GT)  PT08.S3(NOx)     NO2(GT)\n",
      "867       1606.50        1289.50  264.000000        587.25  134.000000\n",
      "2974       942.00         911.50  144.000000        841.50  106.000000\n",
      "5236       948.75         753.50  246.881252        884.00  113.075515\n",
      "5093      1247.00         960.75  167.000000        665.50   71.000000\n",
      "5433       943.00         745.50  246.881252        852.00  113.075515\n",
      "score=  0.7778520901830115\n",
      "slope=  [[0.0010964  0.00260223 0.00279703 0.00103589 0.00171239]]\n",
      "rms=  0.6254064299138614\n",
      "r2:  0.7778520901830116\n"
     ]
    }
   ],
   "source": [
    "#Simple Linear Regression\n",
    "\n",
    "from sklearn.linear_model import LinearRegression\n",
    "from sklearn.metrics import mean_squared_error, r2_score\n",
    "from sklearn.feature_selection import f_regression\n",
    "from sklearn.model_selection import train_test_split\n",
    "import math\n",
    "\n",
    "y = df[['CO(GT)']]#.values#.reshape(-1,1)\n",
    "X = dfy.iloc[:,:]#.values#.reshape(-1,1)\n",
    "print (y.head(5))\n",
    "\n",
    "y1 = df[['CO(GT)']].values.reshape(-1,1)\n",
    "x1 = dfy.iloc[:,:].values.reshape(-1,5)\n",
    "\n",
    "print(y1.shape, x1.shape) \n",
    "\n",
    "\n",
    "X_train, X_test, y_train, y_test = train_test_split(X, y, test_size=0.70, random_state=42)\n",
    "\n",
    "print(X_train.shape, y_train.shape)\n",
    "print (X_train.head())\n",
    "reg = LinearRegression().fit(X_train,y_train)\n",
    "print ('score= ',reg.score(X_test,y_test))\n",
    "print ('slope= ',reg.coef_)\n",
    "p = reg.predict(X_test)\n",
    "print( 'rms= ',math.sqrt(mean_squared_error(y_test, p)))\n",
    "print('r2: ', r2_score(y_test,p))\n"
   ]
  },
  {
   "cell_type": "code",
   "execution_count": 25,
   "metadata": {},
   "outputs": [
    {
     "name": "stdout",
     "output_type": "stream",
     "text": [
      "score=  0.7408336209130407\n",
      "coefficients=  [ 0.00012764  0.00181705  0.00303962 -0.00051348  0.00030575]\n",
      "rms=  0.6755080935523186\n",
      "r2:  0.7408336209130406\n"
     ]
    },
    {
     "name": "stderr",
     "output_type": "stream",
     "text": [
      "/Users/pramanikpramanik/opt/anaconda3/lib/python3.7/site-packages/sklearn/utils/validation.py:724: DataConversionWarning: A column-vector y was passed when a 1d array was expected. Please change the shape of y to (n_samples, ), for example using ravel().\n",
      "  y = column_or_1d(y, warn=True)\n"
     ]
    }
   ],
   "source": [
    "# Q2 - 2 - simple Linear Regression with Stochastic Gradient Descent\n",
    "\n",
    "import numpy as np\n",
    "from sklearn import linear_model\n",
    "\n",
    "clf = linear_model.SGDRegressor(max_iter=50000,tol= 0.00001,learning_rate ='constant',eta0 = 0.000000001)\n",
    "clf.fit(X_train,y_train)\n",
    "print ('score= ',clf.score(X_test,y_test))\n",
    "print ('coefficients= ',clf.coef_)\n",
    "g = clf.predict(X_test)\n",
    "print( 'rms= ',math.sqrt(mean_squared_error(y_test, g)))\n",
    "print('r2: ', r2_score(y_test,g))"
   ]
  },
  {
   "cell_type": "code",
   "execution_count": 3,
   "metadata": {},
   "outputs": [
    {
     "name": "stdout",
     "output_type": "stream",
     "text": [
      "[[-0.18273246]\n",
      " [-0.02068219]\n",
      " [ 0.70411392]\n",
      " [ 0.14694282]\n",
      " [ 0.87440617]]\n",
      "cost:  235.55526111960748\n"
     ]
    },
    {
     "data": {
      "text/plain": [
       "Text(0, 0.5, 'Cost')"
      ]
     },
     "execution_count": 3,
     "metadata": {},
     "output_type": "execute_result"
    },
    {
     "data": {
      "image/png": "[encoded data removed]",
      "text/plain": [
       "<Figure size 432x288 with 1 Axes>"
      ]
     },
     "metadata": {
      "needs_background": "light"
     },
     "output_type": "display_data"
    }
   ],
   "source": [
    "# Q-2 - 1- Linear Regression with Gradient Descent\n",
    "\n",
    "y = df[['CO(GT)']].values.reshape(-1,1)\n",
    "x = dfy.iloc[:,:].values.reshape(-1,5)\n",
    "\n",
    "\n",
    "#y = df[['CO(GT)']].values[:,0]\n",
    "#x = dfy.iloc[:,:].values\n",
    "\n",
    "cost = np.ones(1000)\n",
    "\n",
    "def gradientDescent(x, y, theta, alpha, m, numIterations):\n",
    "    xTrans = x.transpose()\n",
    "    for i in range(0, numIterations):\n",
    "        hypothesis = np.dot(x, theta)\n",
    "        loss = hypothesis - y \n",
    "        cost[i] = np.sum(loss ** 2) / (2 * m)\n",
    "        #print(\"Iteration %d | Cost: %f\" % (i, cost[i]))\n",
    "        gradient = np.dot(xTrans, loss) / m \n",
    "        theta = theta - alpha * gradient\n",
    "    return theta\n",
    "\n",
    "print(gradientDescent(x,y,np.ones((5,1)),0.0000001,935700,1000))\n",
    "print ('cost: ',cost[999])\n",
    "import matplotlib.pyplot as plt\n",
    "cost = list(cost)\n",
    "n_iterations = [x for x in range(1000)]\n",
    "plt.plot(n_iterations, cost)\n",
    "plt.xlabel('No. of iterations')\n",
    "plt.ylabel('Cost')\n"
   ]
  },
  {
   "cell_type": "code",
   "execution_count": 58,
   "metadata": {},
   "outputs": [
    {
     "name": "stdout",
     "output_type": "stream",
     "text": [
      "score=  0.46206651541578714\n",
      "coefficients=  [0.00093417 0.00092309 0.00041288 0.0001961  0.00012031]\n",
      "rms=  0.9733558699426041\n",
      "r2:  0.46206651541578714\n"
     ]
    },
    {
     "name": "stderr",
     "output_type": "stream",
     "text": [
      "/Users/pramanikpramanik/opt/anaconda3/lib/python3.7/site-packages/sklearn/utils/validation.py:724: DataConversionWarning: A column-vector y was passed when a 1d array was expected. Please change the shape of y to (n_samples, ), for example using ravel().\n",
      "  y = column_or_1d(y, warn=True)\n",
      "/Users/pramanikpramanik/opt/anaconda3/lib/python3.7/site-packages/sklearn/utils/validation.py:724: DataConversionWarning: A column-vector y was passed when a 1d array was expected. Please change the shape of y to (n_samples, ), for example using ravel().\n",
      "  y = column_or_1d(y, warn=True)\n",
      "/Users/pramanikpramanik/opt/anaconda3/lib/python3.7/site-packages/sklearn/utils/validation.py:724: DataConversionWarning: A column-vector y was passed when a 1d array was expected. Please change the shape of y to (n_samples, ), for example using ravel().\n",
      "  y = column_or_1d(y, warn=True)\n",
      "/Users/pramanikpramanik/opt/anaconda3/lib/python3.7/site-packages/sklearn/utils/validation.py:724: DataConversionWarning: A column-vector y was passed when a 1d array was expected. Please change the shape of y to (n_samples, ), for example using ravel().\n",
      "  y = column_or_1d(y, warn=True)\n",
      "/Users/pramanikpramanik/opt/anaconda3/lib/python3.7/site-packages/sklearn/utils/validation.py:724: DataConversionWarning: A column-vector y was passed when a 1d array was expected. Please change the shape of y to (n_samples, ), for example using ravel().\n",
      "  y = column_or_1d(y, warn=True)\n",
      "/Users/pramanikpramanik/opt/anaconda3/lib/python3.7/site-packages/sklearn/utils/validation.py:724: DataConversionWarning: A column-vector y was passed when a 1d array was expected. Please change the shape of y to (n_samples, ), for example using ravel().\n",
      "  y = column_or_1d(y, warn=True)\n",
      "/Users/pramanikpramanik/opt/anaconda3/lib/python3.7/site-packages/sklearn/utils/validation.py:724: DataConversionWarning: A column-vector y was passed when a 1d array was expected. Please change the shape of y to (n_samples, ), for example using ravel().\n",
      "  y = column_or_1d(y, warn=True)\n",
      "/Users/pramanikpramanik/opt/anaconda3/lib/python3.7/site-packages/sklearn/utils/validation.py:724: DataConversionWarning: A column-vector y was passed when a 1d array was expected. Please change the shape of y to (n_samples, ), for example using ravel().\n",
      "  y = column_or_1d(y, warn=True)\n",
      "/Users/pramanikpramanik/opt/anaconda3/lib/python3.7/site-packages/sklearn/utils/validation.py:724: DataConversionWarning: A column-vector y was passed when a 1d array was expected. Please change the shape of y to (n_samples, ), for example using ravel().\n",
      "  y = column_or_1d(y, warn=True)\n",
      "/Users/pramanikpramanik/opt/anaconda3/lib/python3.7/site-packages/sklearn/utils/validation.py:724: DataConversionWarning: A column-vector y was passed when a 1d array was expected. Please change the shape of y to (n_samples, ), for example using ravel().\n",
      "  y = column_or_1d(y, warn=True)\n",
      "/Users/pramanikpramanik/opt/anaconda3/lib/python3.7/site-packages/sklearn/utils/validation.py:724: DataConversionWarning: A column-vector y was passed when a 1d array was expected. Please change the shape of y to (n_samples, ), for example using ravel().\n",
      "  y = column_or_1d(y, warn=True)\n",
      "/Users/pramanikpramanik/opt/anaconda3/lib/python3.7/site-packages/sklearn/utils/validation.py:724: DataConversionWarning: A column-vector y was passed when a 1d array was expected. Please change the shape of y to (n_samples, ), for example using ravel().\n",
      "  y = column_or_1d(y, warn=True)\n",
      "/Users/pramanikpramanik/opt/anaconda3/lib/python3.7/site-packages/sklearn/utils/validation.py:724: DataConversionWarning: A column-vector y was passed when a 1d array was expected. Please change the shape of y to (n_samples, ), for example using ravel().\n",
      "  y = column_or_1d(y, warn=True)\n",
      "/Users/pramanikpramanik/opt/anaconda3/lib/python3.7/site-packages/sklearn/utils/validation.py:724: DataConversionWarning: A column-vector y was passed when a 1d array was expected. Please change the shape of y to (n_samples, ), for example using ravel().\n",
      "  y = column_or_1d(y, warn=True)\n",
      "/Users/pramanikpramanik/opt/anaconda3/lib/python3.7/site-packages/sklearn/utils/validation.py:724: DataConversionWarning: A column-vector y was passed when a 1d array was expected. Please change the shape of y to (n_samples, ), for example using ravel().\n",
      "  y = column_or_1d(y, warn=True)\n",
      "/Users/pramanikpramanik/opt/anaconda3/lib/python3.7/site-packages/sklearn/utils/validation.py:724: DataConversionWarning: A column-vector y was passed when a 1d array was expected. Please change the shape of y to (n_samples, ), for example using ravel().\n",
      "  y = column_or_1d(y, warn=True)\n",
      "/Users/pramanikpramanik/opt/anaconda3/lib/python3.7/site-packages/sklearn/utils/validation.py:724: DataConversionWarning: A column-vector y was passed when a 1d array was expected. Please change the shape of y to (n_samples, ), for example using ravel().\n",
      "  y = column_or_1d(y, warn=True)\n",
      "/Users/pramanikpramanik/opt/anaconda3/lib/python3.7/site-packages/sklearn/utils/validation.py:724: DataConversionWarning: A column-vector y was passed when a 1d array was expected. Please change the shape of y to (n_samples, ), for example using ravel().\n",
      "  y = column_or_1d(y, warn=True)\n",
      "/Users/pramanikpramanik/opt/anaconda3/lib/python3.7/site-packages/sklearn/utils/validation.py:724: DataConversionWarning: A column-vector y was passed when a 1d array was expected. Please change the shape of y to (n_samples, ), for example using ravel().\n",
      "  y = column_or_1d(y, warn=True)\n",
      "/Users/pramanikpramanik/opt/anaconda3/lib/python3.7/site-packages/sklearn/utils/validation.py:724: DataConversionWarning: A column-vector y was passed when a 1d array was expected. Please change the shape of y to (n_samples, ), for example using ravel().\n",
      "  y = column_or_1d(y, warn=True)\n"
     ]
    }
   ],
   "source": [
    "# Q2 - 3 - Mini batch gradient descent\n",
    "from sklearn.linear_model import SGDRegressor\n",
    "\n",
    "y = df[['CO(GT)']].values#.reshape(-1,1)\n",
    "X = dfy.iloc[:,:].values#.reshape(-1,1)\n",
    "\n",
    "X_train, X_test, y_train, y_test = train_test_split(X, y, test_size=0.75, random_state=42)\n",
    "\n",
    " \n",
    "def iter_minibatches(chunksize):\n",
    "    # Provide chunks one by one\n",
    "    chunkstartmarker = 0\n",
    "    while chunkstartmarker < 2000:\n",
    "        #y_chunk = df.iloc[chunkstartmarker:chunkstartmarker+chunksize,0].values.reshape(-1,)\n",
    "        #X_chunk = dfy.iloc[chunkstartmarker:chunkstartmarker+chunksize,:].values.reshape(-1,5)\n",
    "        \n",
    "        y_chunk = y_train[chunkstartmarker:chunkstartmarker+chunksize,:]\n",
    "\n",
    "        X_chunk = X_train[chunkstartmarker:chunkstartmarker+chunksize,:]\n",
    "        #print(X_chunk.shape,y_chunk.shape)\n",
    "        yield X_chunk, y_chunk\n",
    "        chunkstartmarker += chunksize\n",
    " \n",
    "\n",
    "batcherator = iter_minibatches(chunksize=100)\n",
    "model = SGDRegressor(tol= 0.00001,learning_rate ='constant',eta0 = 0.000000001)\n",
    " \n",
    "    # Train model\n",
    "for X_chunk, y_chunk in batcherator:\n",
    "    model.partial_fit(X_chunk, y_chunk)\n",
    "    \n",
    "    \n",
    "y_predicted = model.predict(X_test)\n",
    "    \n",
    "print ('score= ',model.score(X_test,y_test))\n",
    "print ('coefficients= ',model.coef_)\n",
    "g = model.predict(X_test)\n",
    "print( 'rms= ',math.sqrt(mean_squared_error(y_test, g)))\n",
    "print('r2: ', r2_score(y_test,g))\n",
    "    \n",
    "  \n",
    "    \n",
    "    "
   ]
  },
  {
   "cell_type": "code",
   "execution_count": null,
   "metadata": {},
   "outputs": [],
   "source": []
  }
 ],
 "metadata": {
  "kernelspec": {
   "display_name": "Python 3",
   "language": "python",
   "name": "python3"
  },
  "language_info": {
   "codemirror_mode": {
    "name": "ipython",
    "version": 3
   },
   "file_extension": ".py",
   "mimetype": "text/x-python",
   "name": "python",
   "nbconvert_exporter": "python",
   "pygments_lexer": "ipython3",
   "version": "3.7.4"
  }
 },
 "nbformat": 4,
 "nbformat_minor": 2
}
