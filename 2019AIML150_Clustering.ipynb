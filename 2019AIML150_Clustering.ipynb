{
 "cells": [
  {
   "cell_type": "code",
   "execution_count": 1,
   "metadata": {},
   "outputs": [
    {
     "name": "stdout",
     "output_type": "stream",
     "text": [
      "       matches_played  innings_batted  runs_scored  highest_runs  balls_faced  \\\n",
      "count      109.000000      109.000000   109.000000    109.000000   109.000000   \n",
      "mean         9.559633        7.889908   173.633028     43.495413   124.669725   \n",
      "std          5.161164        4.982078   182.356522     29.830268   123.670265   \n",
      "min          0.000000        0.000000     0.000000      0.000000     0.000000   \n",
      "25%          5.000000        4.000000    36.000000     20.000000    33.000000   \n",
      "50%         10.000000        7.000000    99.000000     40.000000    76.000000   \n",
      "75%         14.000000       13.000000   260.000000     62.000000   188.000000   \n",
      "max         17.000000       17.000000   735.000000    128.000000   516.000000   \n",
      "\n",
      "       average_runs  strike_rate  innings_bowled       overs  runs_given  \\\n",
      "count    109.000000   109.000000      109.000000  109.000000   109.00000   \n",
      "mean      22.360092   122.258716        4.513761   13.894495   119.93578   \n",
      "std       16.093453    48.576709        5.449456   18.395495   152.80763   \n",
      "min        0.000000     0.000000        0.000000    0.000000     0.00000   \n",
      "25%       11.800000   109.090000        0.000000    0.000000     0.00000   \n",
      "50%       21.160000   130.260000        2.000000    3.000000    27.00000   \n",
      "75%       30.000000   146.040000        8.000000   26.000000   223.00000   \n",
      "max       75.830000   300.000000       17.000000   68.000000   533.00000   \n",
      "\n",
      "       wickets_obtained  average_runs_per_wicket   bowling_economy   \n",
      "count        109.000000                109.000000        109.000000  \n",
      "mean           3.926606                 17.334862          5.149817  \n",
      "std            5.602094                 21.910816          4.773435  \n",
      "min            0.000000                 -0.000000          0.000000  \n",
      "25%            0.000000                  0.000000          0.000000  \n",
      "50%            0.000000                  0.000000          7.280000  \n",
      "75%            6.000000                 28.360000          9.230000  \n",
      "max           24.000000                108.000000         16.500000  \n"
     ]
    }
   ],
   "source": [
    "import pandas as pd\n",
    "df = pd.read_csv('cricketers.csv',delimiter = '\\t',header=0)\n",
    "print (df.describe())\n",
    "#print (df.head(5))"
   ]
  },
  {
   "cell_type": "code",
   "execution_count": 2,
   "metadata": {},
   "outputs": [],
   "source": [
    "import numpy as np\n",
    "\n",
    "df = df.drop(['PLAYER'], axis=1)\n",
    "\n",
    "# classification needs scaled data and this can be used \n",
    "from sklearn import preprocessing\n",
    "scaler = preprocessing.StandardScaler()\n",
    "scaled_df = scaler.fit_transform(df)\n",
    "\n"
   ]
  },
  {
   "cell_type": "code",
   "execution_count": 3,
   "metadata": {},
   "outputs": [
    {
     "name": "stdout",
     "output_type": "stream",
     "text": [
      "       average_runs  bowling_economy\n",
      "count  1.090000e+02     1.090000e+02\n",
      "mean  -8.555847e-17    -5.703898e-17\n",
      "std    1.004619e+00     1.004619e+00\n",
      "min   -1.395808e+00    -1.083832e+00\n",
      "25%   -6.592040e-01    -1.083832e+00\n",
      "50%   -7.491462e-02     4.483192e-01\n",
      "75%    4.769142e-01     8.587169e-01\n",
      "max    3.337810e+00     2.388764e+00\n"
     ]
    }
   ],
   "source": [
    "df_scaled = pd.DataFrame(data=scaled_df)\n",
    "\n",
    "df_new = df_scaled[[5,12]]\n",
    "\n",
    "df_new.columns = ['average_runs', 'bowling_economy']\n",
    "\n",
    "print (df_new.describe())\n",
    "\n",
    "X = df_new.iloc[:, :].values\n",
    "\n",
    "\n"
   ]
  },
  {
   "cell_type": "code",
   "execution_count": 6,
   "metadata": {},
   "outputs": [
    {
     "name": "stdout",
     "output_type": "stream",
     "text": [
      "[[1, 2, 2], [1, 3, 5], [1, 4, 6], [1, 5, 3], [2, 2, 3], [2, 3, 3], [2, 4, 6], [2, 5, 12]]\n",
      "   Strategy  Cluster_No  Iterations\n",
      "0         1           2           2\n",
      "1         1           3           5\n",
      "2         1           4           6\n",
      "3         1           5           3\n",
      "4         2           2           3\n",
      "5         2           3           3\n",
      "6         2           4           6\n",
      "7         2           5          12\n"
     ]
    }
   ],
   "source": [
    "import random as rd\n",
    "import matplotlib.pyplot as plt\n",
    "\n",
    "X = df_new.iloc[:, :].values\n",
    "p = np.mean(X, axis = 0)\n",
    "\n",
    "m=X.shape[0] #number of training examples\n",
    "n=X.shape[1] #number of features. Here n=2\n",
    "n_iter=100\n",
    "\n",
    "myDict = {} \n",
    "\n",
    "my_list = []\n",
    "\n",
    "for g in range (2,6):\n",
    "     K=g # number of clusters\n",
    "     \n",
    "     Centroids=np.array([]).reshape(n,0) \n",
    "     \n",
    "     for i in range(K):\n",
    "         rand=rd.randint(0,m-1)\n",
    "         Centroids=np.c_[Centroids,X[rand]]\n",
    "         \n",
    "     Output={}\n",
    "     \n",
    "     EuclidianDistance=np.array([]).reshape(m,0)\n",
    "     \n",
    "     for k in range(K):\n",
    "            tempDist=np.sum((X-Centroids[:,k])**2,axis=1)\n",
    "            EuclidianDistance=np.c_[EuclidianDistance,tempDist]\n",
    "     C=np.argmin(EuclidianDistance,axis=1)+1\n",
    "     \n",
    "     Y={}\n",
    "     for k in range(K):\n",
    "         Y[k+1]=np.array([]).reshape(2,0)\n",
    "     for i in range(m):\n",
    "         Y[C[i]]=np.c_[Y[C[i]],X[i]]\n",
    "          \n",
    "     for k in range(K):\n",
    "         Y[k+1]=Y[k+1].T\n",
    "         \n",
    "     for k in range(K):\n",
    "          Centroids[:,k]=np.mean(Y[k+1],axis=0)\n",
    "            \n",
    "     myDict[str(g)+'_0'] = Centroids[:].copy()      \n",
    "             \n",
    "     for i in range(n_iter):\n",
    "          #step 2.a\n",
    "           EuclidianDistance=np.array([]).reshape(m,0)\n",
    "           for k in range(K):\n",
    "               tempDist=np.sum((X-Centroids[:,k])**2,axis=1)\n",
    "               EuclidianDistance=np.c_[EuclidianDistance,tempDist]\n",
    "           C=np.argmin(EuclidianDistance,axis=1)+1\n",
    "          #step 2.b\n",
    "           Y={}\n",
    "           for k in range(K):\n",
    "               Y[k+1]=np.array([]).reshape(2,0)\n",
    "           for j in range(m):\n",
    "               Y[C[j]]=np.c_[Y[C[j]],X[j]]\n",
    "          \n",
    "           for k in range(K):\n",
    "               Y[k+1]=Y[k+1].T\n",
    "         \n",
    "           for k in range(K):\n",
    "               Centroids[:,k]=np.mean(Y[k+1],axis=0)\n",
    "           myDict[str(g)+'_'+str(i+1)] = Centroids[:].copy()\n",
    "\n",
    "        \n",
    "           new = myDict.get(str(g)+'_'+str(i+1))\n",
    "           old = myDict.get(str(g)+'_'+str(i))\n",
    "\n",
    "           comparison = np.round(new,4) == np.round(old,4)\n",
    "           equal_arrays = comparison.all()\n",
    "           #print(equal_arrays)\n",
    "           #print(myDict)\n",
    "           if equal_arrays :\n",
    "               my_list.append([1,g,i+1])\n",
    "               break\n",
    "               \n",
    "\n",
    "     \n",
    "\n",
    "p = np.mean(X, axis = 0)\n",
    "\n",
    "myDict = {} \n",
    "\n",
    "#my_list = []\n",
    "\n",
    "for g in range (2,6):\n",
    "     K=g # number of clusters\n",
    "     \n",
    "     Centroids=np.array([]).reshape(n,0) \n",
    "     \n",
    "     for i in range(K):\n",
    "         rand=rd.randint(0,m-1)\n",
    "         Centroids=np.c_[Centroids,p+X[rand]]\n",
    "         \n",
    "     Output={}\n",
    "     \n",
    "     EuclidianDistance=np.array([]).reshape(m,0)\n",
    "     \n",
    "     for k in range(K):\n",
    "            tempDist=np.sum((X-Centroids[:,k])**2,axis=1)\n",
    "            EuclidianDistance=np.c_[EuclidianDistance,tempDist]\n",
    "     C=np.argmin(EuclidianDistance,axis=1)+1\n",
    "     \n",
    "     Y={}\n",
    "     for k in range(K):\n",
    "         Y[k+1]=np.array([]).reshape(2,0)\n",
    "     for i in range(m):\n",
    "         Y[C[i]]=np.c_[Y[C[i]],X[i]]\n",
    "          \n",
    "     for k in range(K):\n",
    "         Y[k+1]=Y[k+1].T\n",
    "         \n",
    "     for k in range(K):\n",
    "          Centroids[:,k]=np.mean(Y[k+1],axis=0)\n",
    "            \n",
    "     myDict[str(g)+'_0'] = Centroids[:].copy()      \n",
    "             \n",
    "     for i in range(n_iter):\n",
    "          #step 2.a\n",
    "           EuclidianDistance=np.array([]).reshape(m,0)\n",
    "           for k in range(K):\n",
    "               tempDist=np.sum((X-Centroids[:,k])**2,axis=1)\n",
    "               EuclidianDistance=np.c_[EuclidianDistance,tempDist]\n",
    "           C=np.argmin(EuclidianDistance,axis=1)+1\n",
    "          #step 2.b\n",
    "           Y={}\n",
    "           for k in range(K):\n",
    "               Y[k+1]=np.array([]).reshape(2,0)\n",
    "           for j in range(m):\n",
    "               Y[C[j]]=np.c_[Y[C[j]],X[j]]\n",
    "          \n",
    "           for k in range(K):\n",
    "               Y[k+1]=Y[k+1].T\n",
    "         \n",
    "           for k in range(K):\n",
    "               Centroids[:,k]=np.mean(Y[k+1],axis=0)\n",
    "           myDict[str(g)+'_'+str(i+1)] = Centroids[:].copy()\n",
    "\n",
    "        \n",
    "           new = myDict.get(str(g)+'_'+str(i+1))\n",
    "           old = myDict.get(str(g)+'_'+str(i))\n",
    "\n",
    "           comparison = np.round(new,4) == np.round(old,4)\n",
    "           equal_arrays = comparison.all()\n",
    "           #print(equal_arrays)\n",
    "           #print(myDict)\n",
    "           if equal_arrays :\n",
    "               my_list.append([2,g,i+1])\n",
    "               break \n",
    "print(my_list)\n",
    "df_res = pd.DataFrame(data=my_list , columns=[\"Strategy\", \"Cluster_No\",\"Iterations\"])\n",
    "print(df_res)\n",
    "\n"
   ]
  },
  {
   "cell_type": "code",
   "execution_count": 7,
   "metadata": {},
   "outputs": [
    {
     "data": {
      "image/png": "[encoded data removed]",
      "text/plain": [
       "<Figure size 432x288 with 1 Axes>"
      ]
     },
     "metadata": {
      "needs_background": "light"
     },
     "output_type": "display_data"
    }
   ],
   "source": [
    "import numpy as np\n",
    "import matplotlib.pyplot as plt\n",
    " \n",
    "# set width of bar\n",
    "barWidth = 0.25\n",
    " \n",
    "# set height of bar\n",
    "bars1 = df_res[(df_res.Strategy == 1)]['Iterations'].values\n",
    "bars2 = df_res[(df_res.Strategy == 2)]['Iterations'].values\n",
    "\n",
    " \n",
    "# Set position of bar on X axis\n",
    "r1 = np.arange(len(bars1))\n",
    "r2 = [x + barWidth for x in r1]\n",
    "\n",
    " \n",
    "# Make the plot\n",
    "plt.bar(r1, bars1, color='#7f6d5f', width=barWidth, edgecolor='white', label='Strategy_1')\n",
    "plt.bar(r2, bars2, color='#557f2d', width=barWidth, edgecolor='white', label='Strategy_2')\n",
    "\n",
    " \n",
    "# Add xticks on the middle of the group bars\n",
    "plt.xlabel('Clusters', fontweight='bold')\n",
    "plt.ylabel('Iterations', fontweight='bold')\n",
    "plt.xticks([r + barWidth for r in range(len(bars1))], ['2', '3', '4', '5'])\n",
    " \n",
    "# Create legend & Show graphic\n",
    "plt.legend()\n",
    "plt.show()\n"
   ]
  },
  {
   "cell_type": "code",
   "execution_count": 12,
   "metadata": {},
   "outputs": [
    {
     "data": {
      "image/png": "[encoded data removed]",
      "text/plain": [
       "<Figure size 432x288 with 1 Axes>"
      ]
     },
     "metadata": {
      "needs_background": "light"
     },
     "output_type": "display_data"
    }
   ],
   "source": [
    "from sklearn.cluster import KMeans\n",
    "\n",
    "df_in = df_scaled[[2,5,10,12]]\n",
    "\n",
    "df_in.columns = ['runs_scored','average_runs', 'wickets_obtained','bowling_economy']\n",
    "\n",
    "X = df_in.iloc[:, :].values\n",
    "wcss = []\n",
    "for i in range(1, 15):\n",
    "    kmeans = KMeans(n_clusters = i, init = 'k-means++', random_state = 42)\n",
    "    kmeans.fit(X)\n",
    "    wcss.append(kmeans.inertia_)\n",
    "plt.plot(range(1, 15), wcss)\n",
    "plt.title('The Elbow Method')\n",
    "plt.xlabel('Number of clusters')\n",
    "plt.ylabel('WCSS')\n",
    "plt.show()"
   ]
  },
  {
   "cell_type": "code",
   "execution_count": 32,
   "metadata": {},
   "outputs": [
    {
     "name": "stdout",
     "output_type": "stream",
     "text": [
      "[0 1 0 1 0 1 0 0 0 0 0 0 0 0 1 1 0 0 0 0 0 0 0 0 0 0 1 0 1 0 0 0 0 0 0 0 1\n",
      " 0 0 0 1 0 1 1 0 0 0 0 1 0 0 1 1 0 0 0 0 0 0 0 0 1 1 0 0 1 0 0 1 0 0 0 0 1\n",
      " 1 1 0 1 0 0 1 0 1 0 0 0 1 0 0 0 1 1 0 0 0 1 0 0 1 0 0 0 0 0 0 0 0 0 0]\n",
      "[1 0 1 0 1 0 2 2 1 1 2 2 1 1 0 0 1 2 1 1 1 1 1 1 2 1 0 2 0 1 1 1 1 2 1 1 0\n",
      " 1 2 2 0 1 0 0 1 1 2 2 0 1 1 1 0 1 1 1 2 1 1 1 2 0 0 1 2 1 1 1 1 2 2 2 1 0\n",
      " 0 0 1 0 1 2 0 2 0 1 1 2 0 1 1 2 0 0 1 1 1 0 1 1 1 1 1 2 2 1 1 1 1 1 2]\n",
      "[0 2 0 3 0 2 1 1 0 0 1 1 0 0 3 2 0 1 0 0 0 0 0 0 1 0 2 1 3 0 0 0 0 1 0 0 3\n",
      " 0 1 1 2 0 2 3 0 0 1 1 2 0 0 3 3 0 0 0 1 0 0 0 1 2 3 0 1 3 3 0 3 1 1 1 0 2\n",
      " 3 3 0 2 0 1 2 1 2 0 0 1 3 3 0 1 2 2 0 0 3 2 0 0 3 0 0 1 1 0 0 0 0 0 1]\n"
     ]
    }
   ],
   "source": [
    "from sklearn.cluster import KMeans\n",
    "df_out = pd.read_csv('cricketers.csv',delimiter = '\\t',header=0)\n",
    "\n",
    "df_decision = df_scaled[[2,10]]\n",
    "\n",
    "df_decision.columns = ['runs_scored', 'wickets_obtained']\n",
    "\n",
    "X = df_decision.iloc[:, :].values\n",
    "wcss = []\n",
    "for i in range(2, 5):\n",
    "    kmeans = KMeans(n_clusters = i, init = 'k-means++', random_state = 42)\n",
    "    kmeans.fit(X)\n",
    "    print(kmeans.predict(X))\n",
    "    arr = kmeans.predict(X)\n",
    "    df_out['k_'+str(i)] = pd.Series(arr)\n",
    "\n",
    "    \n",
    "#print(df_out[['PLAYER','runs_scored', 'wickets_obtained','k_2','k_3','k_4']])\n",
    "\n",
    "df_out['Allrounder'] = df_out[['runs_scored', 'wickets_obtained']].mean(axis=1)"
   ]
  },
  {
   "cell_type": "code",
   "execution_count": 48,
   "metadata": {},
   "outputs": [
    {
     "data": {
      "text/html": [
       "<div>\n",
       "<style scoped>\n",
       "    .dataframe tbody tr th:only-of-type {\n",
       "        vertical-align: middle;\n",
       "    }\n",
       "\n",
       "    .dataframe tbody tr th {\n",
       "        vertical-align: top;\n",
       "    }\n",
       "\n",
       "    .dataframe thead th {\n",
       "        text-align: right;\n",
       "    }\n",
       "</style>\n",
       "<table border=\"1\" class=\"dataframe\">\n",
       "  <thead>\n",
       "    <tr style=\"text-align: right;\">\n",
       "      <th></th>\n",
       "      <th>PLAYER</th>\n",
       "      <th>runs_scored</th>\n",
       "      <th>wickets_obtained</th>\n",
       "      <th>Allrounder</th>\n",
       "      <th>primary</th>\n",
       "    </tr>\n",
       "  </thead>\n",
       "  <tbody>\n",
       "    <tr>\n",
       "      <td>0</td>\n",
       "      <td>Yusuf Pathan</td>\n",
       "      <td>260</td>\n",
       "      <td>1</td>\n",
       "      <td>130.5</td>\n",
       "      <td>Allrounder</td>\n",
       "    </tr>\n",
       "    <tr>\n",
       "      <td>1</td>\n",
       "      <td>Mandeep Singh</td>\n",
       "      <td>252</td>\n",
       "      <td>0</td>\n",
       "      <td>126.0</td>\n",
       "      <td>Allrounder</td>\n",
       "    </tr>\n",
       "    <tr>\n",
       "      <td>2</td>\n",
       "      <td>Prithvi Shaw</td>\n",
       "      <td>245</td>\n",
       "      <td>0</td>\n",
       "      <td>122.5</td>\n",
       "      <td>Allrounder</td>\n",
       "    </tr>\n",
       "    <tr>\n",
       "      <td>3</td>\n",
       "      <td>Andrew Tye</td>\n",
       "      <td>32</td>\n",
       "      <td>24</td>\n",
       "      <td>28.0</td>\n",
       "      <td>Bowl</td>\n",
       "    </tr>\n",
       "    <tr>\n",
       "      <td>4</td>\n",
       "      <td>Rashid Khan</td>\n",
       "      <td>59</td>\n",
       "      <td>21</td>\n",
       "      <td>40.0</td>\n",
       "      <td>Bowl</td>\n",
       "    </tr>\n",
       "    <tr>\n",
       "      <td>5</td>\n",
       "      <td>Hardik Pandya</td>\n",
       "      <td>260</td>\n",
       "      <td>18</td>\n",
       "      <td>139.0</td>\n",
       "      <td>Bowl</td>\n",
       "    </tr>\n",
       "    <tr>\n",
       "      <td>6</td>\n",
       "      <td>Sunil 0rine</td>\n",
       "      <td>357</td>\n",
       "      <td>17</td>\n",
       "      <td>187.0</td>\n",
       "      <td>Bowl</td>\n",
       "    </tr>\n",
       "    <tr>\n",
       "      <td>7</td>\n",
       "      <td>Kane Williamson</td>\n",
       "      <td>735</td>\n",
       "      <td>0</td>\n",
       "      <td>367.5</td>\n",
       "      <td>Bat</td>\n",
       "    </tr>\n",
       "    <tr>\n",
       "      <td>8</td>\n",
       "      <td>Rishabh Pant</td>\n",
       "      <td>684</td>\n",
       "      <td>0</td>\n",
       "      <td>342.0</td>\n",
       "      <td>Bat</td>\n",
       "    </tr>\n",
       "    <tr>\n",
       "      <td>9</td>\n",
       "      <td>Lokesh Rahul</td>\n",
       "      <td>659</td>\n",
       "      <td>0</td>\n",
       "      <td>329.5</td>\n",
       "      <td>Bat</td>\n",
       "    </tr>\n",
       "    <tr>\n",
       "      <td>10</td>\n",
       "      <td>Ambati Rayudu</td>\n",
       "      <td>602</td>\n",
       "      <td>0</td>\n",
       "      <td>301.0</td>\n",
       "      <td>Bat</td>\n",
       "    </tr>\n",
       "  </tbody>\n",
       "</table>\n",
       "</div>"
      ],
      "text/plain": [
       "              PLAYER  runs_scored  wickets_obtained  Allrounder     primary\n",
       "0       Yusuf Pathan          260                 1       130.5  Allrounder\n",
       "1      Mandeep Singh          252                 0       126.0  Allrounder\n",
       "2       Prithvi Shaw          245                 0       122.5  Allrounder\n",
       "3         Andrew Tye           32                24        28.0        Bowl\n",
       "4        Rashid Khan           59                21        40.0        Bowl\n",
       "5      Hardik Pandya          260                18       139.0        Bowl\n",
       "6        Sunil 0rine          357                17       187.0        Bowl\n",
       "7   Kane Williamson           735                 0       367.5         Bat\n",
       "8       Rishabh Pant          684                 0       342.0         Bat\n",
       "9       Lokesh Rahul          659                 0       329.5         Bat\n",
       "10     Ambati Rayudu          602                 0       301.0         Bat"
      ]
     },
     "execution_count": 48,
     "metadata": {},
     "output_type": "execute_result"
    }
   ],
   "source": [
    "#print(df_out[(df_out.k_2 == 0)][['PLAYER','runs_scored', 'wickets_obtained']])\n",
    "#print(df_out[(df_out.k_2 == 1)][['PLAYER','runs_scored', 'wickets_obtained']])\n",
    "\n",
    "#print(df_out[(df_out.k_3 == 0)][['PLAYER','runs_scored', 'wickets_obtained']].sort_values(by=['runs_scored'],ascending=False))\n",
    "#print(df_out[(df_out.k_3 == 1)][['PLAYER','runs_scored', 'wickets_obtained']].sort_values(by=['runs_scored'],ascending=False))\n",
    "#print(df_out[(df_out.k_3 == 1)][['PLAYER','runs_scored', 'wickets_obtained']].sort_values(by=['wickets_obtained'],ascending=False))\n",
    "#print(df_out[(df_out.k_3 == 2)][['PLAYER','runs_scored', 'wickets_obtained']].sort_values(by=['wickets_obtained'],ascending=False))\n",
    "\n",
    "\n",
    "#batsmen\n",
    "\n",
    "bat = df_out[(df_out.k_3 == 0)][['PLAYER','runs_scored', 'wickets_obtained','Allrounder']].sort_values(by=['runs_scored'],ascending=False).head(4)\n",
    "bat['primary'] = 'Bat'\n",
    "bowl = df_out[(df_out.k_3 == 2)][['PLAYER','runs_scored', 'wickets_obtained','Allrounder']].sort_values(by=['wickets_obtained'],ascending=False).head(4)\n",
    "bowl['primary'] = 'Bowl'\n",
    "allr = df_out[(df_out.k_3 == 1)][['PLAYER','runs_scored', 'wickets_obtained','Allrounder']].sort_values(by=['Allrounder'],ascending=False).head(3)\n",
    "allr['primary'] = 'Allrounder'\n",
    "bat.head()\n",
    "bat = pd.concat([bowl, bat], ignore_index=True)\n",
    "bat = pd.concat([allr, bat], ignore_index=True)\n",
    "bat.head(12)\n"
   ]
  },
  {
   "cell_type": "code",
   "execution_count": 52,
   "metadata": {},
   "outputs": [
    {
     "data": {
      "text/plain": [
       "<seaborn.axisgrid.FacetGrid at 0x1a21a91290>"
      ]
     },
     "execution_count": 52,
     "metadata": {},
     "output_type": "execute_result"
    },
    {
     "data": {
      "image/png": "[encoded data removed]",
      "text/plain": [
       "<Figure size 437.86x216 with 1 Axes>"
      ]
     },
     "metadata": {},
     "output_type": "display_data"
    }
   ],
   "source": [
    "import numpy \n",
    "import pandas\n",
    "from  matplotlib import pyplot\n",
    "import seaborn\n",
    "seaborn.set(style='ticks')\n",
    "\n",
    "\n",
    "prim= ['Bat', 'Bowl', 'Allrounder']\n",
    "df = bat[['runs_scored', 'wickets_obtained','Allrounder']]\n",
    "\n",
    "fg = seaborn.FacetGrid(data=df, hue='Allrounder', hue_order=prim, aspect=1.61)\n",
    "fg.map(pyplot.scatter, 'runs_scored', 'wickets_obtained').add_legend()"
   ]
  },
  {
   "cell_type": "code",
   "execution_count": 54,
   "metadata": {},
   "outputs": [
    {
     "data": {
      "text/plain": [
       "<matplotlib.collections.PathCollection at 0x1a21d28490>"
      ]
     },
     "execution_count": 54,
     "metadata": {},
     "output_type": "execute_result"
    },
    {
     "data": {
      "image/png": "[encoded data removed]",
      "text/plain": [
       "<Figure size 432x288 with 1 Axes>"
      ]
     },
     "metadata": {},
     "output_type": "display_data"
    }
   ],
   "source": [
    "plt.scatter(bat.runs_scored, bat.wickets_obtained, s=300, c=bat.Allrounder)"
   ]
  },
  {
   "cell_type": "code",
   "execution_count": null,
   "metadata": {},
   "outputs": [],
   "source": []
  }
 ],
 "metadata": {
  "kernelspec": {
   "display_name": "Python 3",
   "language": "python",
   "name": "python3"
  },
  "language_info": {
   "codemirror_mode": {
    "name": "ipython",
    "version": 3
   },
   "file_extension": ".py",
   "mimetype": "text/x-python",
   "name": "python",
   "nbconvert_exporter": "python",
   "pygments_lexer": "ipython3",
   "version": "3.7.4"
  }
 },
 "nbformat": 4,
 "nbformat_minor": 2
}
